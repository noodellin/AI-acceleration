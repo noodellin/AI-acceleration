{
 "cells": [
  {
   "cell_type": "code",
   "execution_count": 1,
   "metadata": {
    "colab": {
     "base_uri": "https://localhost:8080/",
     "height": 121
    },
    "colab_type": "code",
    "executionInfo": {
     "elapsed": 21728,
     "status": "ok",
     "timestamp": 1572659738421,
     "user": {
      "displayName": "Noodle Lin",
      "photoUrl": "",
      "userId": "18069408731327719900"
     },
     "user_tz": -480
    },
    "id": "QBscUnxk0AVv",
    "outputId": "ba29b01f-d115-4b15-a5ee-e89937df809a"
   },
   "outputs": [
    {
     "name": "stdout",
     "output_type": "stream",
     "text": [
      "Go to this URL in a browser: https://accounts.google.com/o/oauth2/auth?client_id=947318989803-6bn6qk8qdgf4n4g3pfee6491hc0brc4i.apps.googleusercontent.com&redirect_uri=urn%3Aietf%3Awg%3Aoauth%3A2.0%3Aoob&scope=email%20https%3A%2F%2Fwww.googleapis.com%2Fauth%2Fdocs.test%20https%3A%2F%2Fwww.googleapis.com%2Fauth%2Fdrive%20https%3A%2F%2Fwww.googleapis.com%2Fauth%2Fdrive.photos.readonly%20https%3A%2F%2Fwww.googleapis.com%2Fauth%2Fpeopleapi.readonly&response_type=code\n",
      "\n",
      "Enter your authorization code:\n",
      "··········\n",
      "Mounted at /content/drive\n"
     ]
    }
   ],
   "source": [
    "from google.colab import drive\n",
    "drive.mount('/content/drive')"
   ]
  },
  {
   "cell_type": "code",
   "execution_count": 2,
   "metadata": {
    "colab": {
     "base_uri": "https://localhost:8080/",
     "height": 62
    },
    "colab_type": "code",
    "executionInfo": {
     "elapsed": 2296,
     "status": "ok",
     "timestamp": 1572660384706,
     "user": {
      "displayName": "Noodle Lin",
      "photoUrl": "",
      "userId": "18069408731327719900"
     },
     "user_tz": -480
    },
    "id": "1tjclZd-1lRx",
    "outputId": "dcb33e62-cb77-4b1a-f8bf-97171bc3670e"
   },
   "outputs": [
    {
     "data": {
      "text/html": [
       "<p style=\"color: red;\">\n",
       "The default version of TensorFlow in Colab will soon switch to TensorFlow 2.x.<br>\n",
       "We recommend you <a href=\"https://www.tensorflow.org/guide/migrate\" target=\"_blank\">upgrade</a> now \n",
       "or ensure your notebook will continue to use TensorFlow 1.x via the <code>%tensorflow_version 1.x</code> magic:\n",
       "<a href=\"https://colab.research.google.com/notebooks/tensorflow_version.ipynb\" target=\"_blank\">more info</a>.</p>\n"
      ],
      "text/plain": [
       "<IPython.core.display.HTML object>"
      ]
     },
     "metadata": {
      "tags": []
     },
     "output_type": "display_data"
    }
   ],
   "source": [
    "import tensorflow as tf"
   ]
  },
  {
   "cell_type": "code",
   "execution_count": 5,
   "metadata": {
    "colab": {},
    "colab_type": "code",
    "id": "lNYDUaUy3QqP"
   },
   "outputs": [],
   "source": [
    "import bs4\n",
    "import requests"
   ]
  },
  {
   "cell_type": "code",
   "execution_count": 3,
   "metadata": {
    "colab": {
     "base_uri": "https://localhost:8080/",
     "height": 34
    },
    "colab_type": "code",
    "executionInfo": {
     "elapsed": 923,
     "status": "ok",
     "timestamp": 1572662361314,
     "user": {
      "displayName": "Noodle Lin",
      "photoUrl": "",
      "userId": "18069408731327719900"
     },
     "user_tz": -480
    },
    "id": "Yupn5Sw4-JG3",
    "outputId": "451f58fe-e70a-40fc-e541-f6f4a2726d79"
   },
   "outputs": [
    {
     "data": {
      "text/plain": [
       "<Response [200]>"
      ]
     },
     "execution_count": 3,
     "metadata": {},
     "output_type": "execute_result"
    }
   ],
   "source": [
    "url = \"https://www.taiwanlottery.com.tw/\"\n",
    "html = requests.get(url)\n",
    "html"
   ]
  },
  {
   "cell_type": "code",
   "execution_count": 4,
   "metadata": {
    "colab": {},
    "colab_type": "code",
    "id": "4BWWa3tv-rhr"
   },
   "outputs": [],
   "source": [
    "objsoup = bs4.BeautifulSoup(html.text, \"lxml\")"
   ]
  },
  {
   "cell_type": "code",
   "execution_count": 5,
   "metadata": {
    "colab": {
     "base_uri": "https://localhost:8080/",
     "height": 188
    },
    "colab_type": "code",
    "executionInfo": {
     "elapsed": 974,
     "status": "ok",
     "timestamp": 1572663036564,
     "user": {
      "displayName": "Noodle Lin",
      "photoUrl": "",
      "userId": "18069408731327719900"
     },
     "user_tz": -480
    },
    "id": "F5_iF-LOANM-",
    "outputId": "5b0ececf-a37f-4619-c95a-64e32a26c09b"
   },
   "outputs": [
    {
     "data": {
      "text/plain": [
       "[<div class=\"contents_box02\">\n",
       " <div id=\"contents_logo_02\"></div><div class=\"contents_mine_tx02\"><span class=\"font_black15\">108/10/31 第108000087期 </span><span class=\"font_red14\"><a href=\"Result_all.aspx#01\">開獎結果</a></span></div><div class=\"contents_mine_tx04\">開出順序<br/>大小順序<br/>第二區</div><div class=\"ball_tx ball_green\">02 </div><div class=\"ball_tx ball_green\">26 </div><div class=\"ball_tx ball_green\">06 </div><div class=\"ball_tx ball_green\">29 </div><div class=\"ball_tx ball_green\">04 </div><div class=\"ball_tx ball_green\">12 </div><div class=\"ball_tx ball_green\">02 </div><div class=\"ball_tx ball_green\">04 </div><div class=\"ball_tx ball_green\">06 </div><div class=\"ball_tx ball_green\">12 </div><div class=\"ball_tx ball_green\">26 </div><div class=\"ball_tx ball_green\">29 </div><div class=\"ball_red\">06 </div>\n",
       " </div>, <div class=\"contents_box02\">\n",
       " <div id=\"contents_logo_03\"></div><div class=\"contents_mine_tx02\"><span class=\"font_black15\">108/10/31 第108000087期 </span><span class=\"font_red14\"><a href=\"Result_all.aspx#07\">開獎結果</a></span></div><div class=\"contents_mine_tx04\">開出順序<br/>大小順序</div><div class=\"ball_tx ball_green\">02 </div><div class=\"ball_tx ball_green\">26 </div><div class=\"ball_tx ball_green\">06 </div><div class=\"ball_tx ball_green\">29 </div><div class=\"ball_tx ball_green\">04 </div><div class=\"ball_tx ball_green\">12 </div><div class=\"ball_tx ball_green\">02 </div><div class=\"ball_tx ball_green\">04 </div><div class=\"ball_tx ball_green\">06 </div><div class=\"ball_tx ball_green\">12 </div><div class=\"ball_tx ball_green\">26 </div><div class=\"ball_tx ball_green\">29 </div>\n",
       " </div>, <div class=\"contents_box02\">\n",
       " <div id=\"contents_logo_04\"></div><div class=\"contents_mine_tx02\"><span class=\"font_black15\">108/11/1 第108000095期 </span><span class=\"font_red14\"><a href=\"Result_all.aspx#02\">開獎結果</a></span></div><div class=\"contents_mine_tx04\">開出順序<br/>大小順序<br/>特別號</div><div class=\"ball_tx ball_yellow\">41 </div><div class=\"ball_tx ball_yellow\">42 </div><div class=\"ball_tx ball_yellow\">33 </div><div class=\"ball_tx ball_yellow\">23 </div><div class=\"ball_tx ball_yellow\">15 </div><div class=\"ball_tx ball_yellow\">12 </div><div class=\"ball_tx ball_yellow\">12 </div><div class=\"ball_tx ball_yellow\">15 </div><div class=\"ball_tx ball_yellow\">23 </div><div class=\"ball_tx ball_yellow\">33 </div><div class=\"ball_tx ball_yellow\">41 </div><div class=\"ball_tx ball_yellow\">42 </div><div class=\"ball_red\">11 </div>\n",
       " </div>, <div class=\"contents_box02\">\n",
       " <div id=\"contents_logo_05\"></div><div class=\"contents_mine_tx02\"><span class=\"font_black15\">108/11/1 第108000095期 </span><span class=\"font_red14\"><a href=\"Result_all.aspx#08\">開獎結果</a></span></div><div class=\"contents_mine_tx04\">開出順序<br/>大小順序</div><div class=\"ball_tx ball_yellow\">41 </div><div class=\"ball_tx ball_yellow\">42 </div><div class=\"ball_tx ball_yellow\">33 </div><div class=\"ball_tx ball_yellow\">23 </div><div class=\"ball_tx ball_yellow\">15 </div><div class=\"ball_tx ball_yellow\">12 </div><div class=\"ball_tx ball_yellow\">12 </div><div class=\"ball_tx ball_yellow\">15 </div><div class=\"ball_tx ball_yellow\">23 </div><div class=\"ball_tx ball_yellow\">33 </div><div class=\"ball_tx ball_yellow\">41 </div><div class=\"ball_tx ball_yellow\">42 </div>\n",
       " </div>]"
      ]
     },
     "execution_count": 5,
     "metadata": {},
     "output_type": "execute_result"
    }
   ],
   "source": [
    "datetag = objsoup.select(\".contents_box02\")\n",
    "datetag"
   ]
  },
  {
   "cell_type": "code",
   "execution_count": 6,
   "metadata": {
    "colab": {
     "base_uri": "https://localhost:8080/",
     "height": 238
    },
    "colab_type": "code",
    "executionInfo": {
     "elapsed": 919,
     "status": "ok",
     "timestamp": 1572663551208,
     "user": {
      "displayName": "Noodle Lin",
      "photoUrl": "",
      "userId": "18069408731327719900"
     },
     "user_tz": -480
    },
    "id": "nGy1QEYbAqUe",
    "outputId": "a5189027-29a3-4fff-ee74-d7503a84ebb3"
   },
   "outputs": [
    {
     "name": "stdout",
     "output_type": "stream",
     "text": [
      "<div class=\"contents_box02\">\n",
      "<div id=\"contents_logo_02\"></div><div class=\"contents_mine_tx02\"><span class=\"font_black15\">108/10/31 第108000087期 </span><span class=\"font_red14\"><a href=\"Result_all.aspx#01\">開獎結果</a></span></div><div class=\"contents_mine_tx04\">開出順序<br/>大小順序<br/>第二區</div><div class=\"ball_tx ball_green\">02 </div><div class=\"ball_tx ball_green\">26 </div><div class=\"ball_tx ball_green\">06 </div><div class=\"ball_tx ball_green\">29 </div><div class=\"ball_tx ball_green\">04 </div><div class=\"ball_tx ball_green\">12 </div><div class=\"ball_tx ball_green\">02 </div><div class=\"ball_tx ball_green\">04 </div><div class=\"ball_tx ball_green\">06 </div><div class=\"ball_tx ball_green\">12 </div><div class=\"ball_tx ball_green\">26 </div><div class=\"ball_tx ball_green\">29 </div><div class=\"ball_red\">06 </div>\n",
      "</div>\n",
      "<div class=\"contents_box02\">\n",
      "<div id=\"contents_logo_03\"></div><div class=\"contents_mine_tx02\"><span class=\"font_black15\">108/10/31 第108000087期 </span><span class=\"font_red14\"><a href=\"Result_all.aspx#07\">開獎結果</a></span></div><div class=\"contents_mine_tx04\">開出順序<br/>大小順序</div><div class=\"ball_tx ball_green\">02 </div><div class=\"ball_tx ball_green\">26 </div><div class=\"ball_tx ball_green\">06 </div><div class=\"ball_tx ball_green\">29 </div><div class=\"ball_tx ball_green\">04 </div><div class=\"ball_tx ball_green\">12 </div><div class=\"ball_tx ball_green\">02 </div><div class=\"ball_tx ball_green\">04 </div><div class=\"ball_tx ball_green\">06 </div><div class=\"ball_tx ball_green\">12 </div><div class=\"ball_tx ball_green\">26 </div><div class=\"ball_tx ball_green\">29 </div>\n",
      "</div>\n",
      "<div class=\"contents_box02\">\n",
      "<div id=\"contents_logo_04\"></div><div class=\"contents_mine_tx02\"><span class=\"font_black15\">108/11/1 第108000095期 </span><span class=\"font_red14\"><a href=\"Result_all.aspx#02\">開獎結果</a></span></div><div class=\"contents_mine_tx04\">開出順序<br/>大小順序<br/>特別號</div><div class=\"ball_tx ball_yellow\">41 </div><div class=\"ball_tx ball_yellow\">42 </div><div class=\"ball_tx ball_yellow\">33 </div><div class=\"ball_tx ball_yellow\">23 </div><div class=\"ball_tx ball_yellow\">15 </div><div class=\"ball_tx ball_yellow\">12 </div><div class=\"ball_tx ball_yellow\">12 </div><div class=\"ball_tx ball_yellow\">15 </div><div class=\"ball_tx ball_yellow\">23 </div><div class=\"ball_tx ball_yellow\">33 </div><div class=\"ball_tx ball_yellow\">41 </div><div class=\"ball_tx ball_yellow\">42 </div><div class=\"ball_red\">11 </div>\n",
      "</div>\n",
      "<div class=\"contents_box02\">\n",
      "<div id=\"contents_logo_05\"></div><div class=\"contents_mine_tx02\"><span class=\"font_black15\">108/11/1 第108000095期 </span><span class=\"font_red14\"><a href=\"Result_all.aspx#08\">開獎結果</a></span></div><div class=\"contents_mine_tx04\">開出順序<br/>大小順序</div><div class=\"ball_tx ball_yellow\">41 </div><div class=\"ball_tx ball_yellow\">42 </div><div class=\"ball_tx ball_yellow\">33 </div><div class=\"ball_tx ball_yellow\">23 </div><div class=\"ball_tx ball_yellow\">15 </div><div class=\"ball_tx ball_yellow\">12 </div><div class=\"ball_tx ball_yellow\">12 </div><div class=\"ball_tx ball_yellow\">15 </div><div class=\"ball_tx ball_yellow\">23 </div><div class=\"ball_tx ball_yellow\">33 </div><div class=\"ball_tx ball_yellow\">41 </div><div class=\"ball_tx ball_yellow\">42 </div>\n",
      "</div>\n"
     ]
    }
   ],
   "source": [
    "for i in range(len(datetag)):\n",
    "  print(datetag[i])"
   ]
  },
  {
   "cell_type": "code",
   "execution_count": 7,
   "metadata": {
    "colab": {
     "base_uri": "https://localhost:8080/",
     "height": 54
    },
    "colab_type": "code",
    "executionInfo": {
     "elapsed": 1428,
     "status": "ok",
     "timestamp": 1572664245670,
     "user": {
      "displayName": "Noodle Lin",
      "photoUrl": "",
      "userId": "18069408731327719900"
     },
     "user_tz": -480
    },
    "id": "CHdmd0HMDWEX",
    "outputId": "f0adf52d-b65e-445a-86f1-9b03063c95e7"
   },
   "outputs": [
    {
     "name": "stdout",
     "output_type": "stream",
     "text": [
      "[<div class=\"ball_tx ball_green\">02 </div>, <div class=\"ball_tx ball_green\">26 </div>, <div class=\"ball_tx ball_green\">06 </div>, <div class=\"ball_tx ball_green\">29 </div>, <div class=\"ball_tx ball_green\">04 </div>, <div class=\"ball_tx ball_green\">12 </div>, <div class=\"ball_tx ball_green\">02 </div>, <div class=\"ball_tx ball_green\">04 </div>, <div class=\"ball_tx ball_green\">06 </div>, <div class=\"ball_tx ball_green\">12 </div>, <div class=\"ball_tx ball_green\">26 </div>, <div class=\"ball_tx ball_green\">29 </div>]\n"
     ]
    }
   ],
   "source": [
    "balls = datetag[0].find_all(\"div\",{\"class\":\"ball_tx ball_green\"})\n",
    "print(balls)"
   ]
  },
  {
   "cell_type": "code",
   "execution_count": 8,
   "metadata": {
    "colab": {
     "base_uri": "https://localhost:8080/",
     "height": 34
    },
    "colab_type": "code",
    "executionInfo": {
     "elapsed": 1118,
     "status": "ok",
     "timestamp": 1572664426700,
     "user": {
      "displayName": "Noodle Lin",
      "photoUrl": "",
      "userId": "18069408731327719900"
     },
     "user_tz": -480
    },
    "id": "GFJufH9cEcf8",
    "outputId": "827c7a0f-57da-46f3-c947-caef25806132"
   },
   "outputs": [
    {
     "name": "stdout",
     "output_type": "stream",
     "text": [
      "02      26      06      29      04      12      "
     ]
    }
   ],
   "source": [
    "for ball in range(6):\n",
    "  print(balls[ball].text, end=\"     \")"
   ]
  },
  {
   "cell_type": "code",
   "execution_count": 9,
   "metadata": {
    "colab": {
     "base_uri": "https://localhost:8080/",
     "height": 34
    },
    "colab_type": "code",
    "executionInfo": {
     "elapsed": 980,
     "status": "ok",
     "timestamp": 1572664512510,
     "user": {
      "displayName": "Noodle Lin",
      "photoUrl": "",
      "userId": "18069408731327719900"
     },
     "user_tz": -480
    },
    "id": "-fbf0hm7GrwN",
    "outputId": "f82ee5e2-66ec-407e-8913-bd5ecf992d58"
   },
   "outputs": [
    {
     "name": "stdout",
     "output_type": "stream",
     "text": [
      "02      04      06      12      26      29      "
     ]
    }
   ],
   "source": [
    "for ball in range(6,len(balls)):\n",
    "  print(balls[ball].text, end=\"     \")"
   ]
  },
  {
   "cell_type": "code",
   "execution_count": 10,
   "metadata": {
    "colab": {
     "base_uri": "https://localhost:8080/",
     "height": 34
    },
    "colab_type": "code",
    "executionInfo": {
     "elapsed": 941,
     "status": "ok",
     "timestamp": 1572664951569,
     "user": {
      "displayName": "Noodle Lin",
      "photoUrl": "",
      "userId": "18069408731327719900"
     },
     "user_tz": -480
    },
    "id": "9WgkSlZcHAY7",
    "outputId": "6b21625c-c192-46ca-ed53-9b76854129cf"
   },
   "outputs": [
    {
     "name": "stdout",
     "output_type": "stream",
     "text": [
      "06 \n"
     ]
    }
   ],
   "source": [
    "redball = datetag[0].find_all(\"div\",{\"class\":\"ball_red\"})\n",
    "print(redball[0].text)"
   ]
  },
  {
   "cell_type": "code",
   "execution_count": 11,
   "metadata": {
    "colab": {},
    "colab_type": "code",
    "id": "OkDgsdU1ILi1"
   },
   "outputs": [],
   "source": [
    "###homework part"
   ]
  },
  {
   "cell_type": "code",
   "execution_count": 2,
   "metadata": {},
   "outputs": [],
   "source": [
    "import pandas as pd\n",
    "import json"
   ]
  },
  {
   "cell_type": "code",
   "execution_count": 15,
   "metadata": {},
   "outputs": [
    {
     "data": {
      "text/plain": [
       "<Response [200]>"
      ]
     },
     "execution_count": 15,
     "metadata": {},
     "output_type": "execute_result"
    }
   ],
   "source": [
    "url2 = \"https://www.taiwanlottery.com.tw/index_new.aspx\"\n",
    "req = requests.get(url2)\n",
    "req"
   ]
  },
  {
   "cell_type": "code",
   "execution_count": 33,
   "metadata": {},
   "outputs": [
    {
     "data": {
      "text/plain": [
       "<div class=\"contents_box03\">\n",
       "<div id=\"contents_logo_06\"></div><div class=\"contents_mine_tx02\"><span class=\"font_black15\">108/11/2 第108000263期 </span><span class=\"font_red14\"><a href=\"Result_all.aspx#03\">開獎結果</a></span></div><div class=\"contents_mine_tx04\">開出順序<br/>大小順序</div><div class=\"ball_tx ball_lemon\">32 </div><div class=\"ball_tx ball_lemon\">09 </div><div class=\"ball_tx ball_lemon\">10 </div><div class=\"ball_tx ball_lemon\">25 </div><div class=\"ball_tx ball_lemon\">12 </div><div class=\"ball_tx\"></div><div class=\"ball_tx ball_lemon\">09 </div><div class=\"ball_tx ball_lemon\">10 </div><div class=\"ball_tx ball_lemon\">12 </div><div class=\"ball_tx ball_lemon\">25 </div><div class=\"ball_tx ball_lemon\">32 </div>\n",
       "</div>"
      ]
     },
     "execution_count": 33,
     "metadata": {},
     "output_type": "execute_result"
    }
   ],
   "source": [
    "objsoup2 = bs4.BeautifulSoup(req.text,\"lxml\")\n",
    "find539 = objsoup2.find_all(\"div\",\"contents_box03\")[0]\n",
    "find539"
   ]
  },
  {
   "cell_type": "code",
   "execution_count": 70,
   "metadata": {},
   "outputs": [
    {
     "data": {
      "text/plain": [
       "['108/11/2', '第108000263期']"
      ]
     },
     "execution_count": 70,
     "metadata": {},
     "output_type": "execute_result"
    }
   ],
   "source": [
    "date = find539.find_all(\"span\",\"font_black15\")\n",
    "sp_date = date[0].text.strip().split(\"\\xa0\")\n",
    "sp_date"
   ]
  },
  {
   "cell_type": "code",
   "execution_count": 75,
   "metadata": {},
   "outputs": [
    {
     "name": "stdout",
     "output_type": "stream",
     "text": [
      "今彩539   108/11/2   第108000263期\n",
      "開出順序: 32 \t09 \t10 \t25 \t12 \t\n",
      "大小順序: 09 \t10 \t12 \t25 \t32 \t"
     ]
    }
   ],
   "source": [
    "luckyballs = find539.find_all(\"div\",\"ball_tx ball_lemon\")\n",
    "print(\"今彩539\",\" \",sp_date[0],\" \",sp_date[1])\n",
    "print(\"開出順序:\",end=\" \")\n",
    "for i in range(0,int(0.5*len(luckyballs))):\n",
    "    print(luckyballs[i].text,end=\"\\t\")\n",
    "print(\"\")\n",
    "print(\"大小順序:\",end=\" \")\n",
    "for i in range(int(0.5*len(luckyballs)),len(luckyballs)):\n",
    "    print(luckyballs[i].text,end=\"\\t\")"
   ]
  },
  {
   "cell_type": "code",
   "execution_count": 6,
   "metadata": {},
   "outputs": [],
   "source": [
    "def grab539():\n",
    "    url2 = \"https://www.taiwanlottery.com.tw/index_new.aspx\"\n",
    "    req = requests.get(url2)\n",
    "    objsoup2 = bs4.BeautifulSoup(req.text,\"lxml\")\n",
    "    find539 = objsoup2.find_all(\"div\",\"contents_box03\")[0]\n",
    "    date = find539.find_all(\"span\",\"font_black15\")\n",
    "    sp_date = date[0].text.strip().split(\"\\xa0\")\n",
    "    luckyballs = find539.find_all(\"div\",\"ball_tx ball_lemon\")\n",
    "    print(\"今彩539\",\" \",sp_date[0],\" \",sp_date[1])\n",
    "    print(\"開出順序:\",end=\" \")\n",
    "    for i in range(0,int(0.5*len(luckyballs))):\n",
    "        print(luckyballs[i].text,end=\"\\t\")\n",
    "    print(\"\")\n",
    "    print(\"大小順序:\",end=\" \")\n",
    "    for i in range(int(0.5*len(luckyballs)),len(luckyballs)):\n",
    "        print(luckyballs[i].text,end=\"\\t\")"
   ]
  },
  {
   "cell_type": "code",
   "execution_count": 7,
   "metadata": {},
   "outputs": [
    {
     "name": "stdout",
     "output_type": "stream",
     "text": [
      "今彩539   108/11/5   第108000265期\n",
      "開出順序: 14 \t30 \t22 \t34 \t02 \t\n",
      "大小順序: 02 \t14 \t22 \t30 \t34 \t"
     ]
    }
   ],
   "source": [
    "grab539()"
   ]
  },
  {
   "cell_type": "code",
   "execution_count": null,
   "metadata": {},
   "outputs": [],
   "source": []
  }
 ],
 "metadata": {
  "accelerator": "GPU",
  "colab": {
   "collapsed_sections": [],
   "name": "191102_lottery.ipynb",
   "provenance": []
  },
  "kernelspec": {
   "display_name": "Python 3",
   "language": "python",
   "name": "python3"
  },
  "language_info": {
   "codemirror_mode": {
    "name": "ipython",
    "version": 3
   },
   "file_extension": ".py",
   "mimetype": "text/x-python",
   "name": "python",
   "nbconvert_exporter": "python",
   "pygments_lexer": "ipython3",
   "version": "3.7.3"
  }
 },
 "nbformat": 4,
 "nbformat_minor": 1
}
