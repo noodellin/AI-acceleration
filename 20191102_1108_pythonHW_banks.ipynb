{
 "cells": [
  {
   "cell_type": "code",
   "execution_count": null,
   "metadata": {},
   "outputs": [],
   "source": [
    "##python HW 8~12"
   ]
  },
  {
   "cell_type": "code",
   "execution_count": 66,
   "metadata": {},
   "outputs": [],
   "source": [
    "class Banks():\n",
    "    def __init__(self, uname):\n",
    "        self.__name = uname\n",
    "        self.__balance = 0\n",
    "        self.__bankname = \"Taipei Bank\"\n",
    "        \n",
    "    def save_money(self,money):\n",
    "        if money > 0:\n",
    "            self.__balance += money\n",
    "        else:\n",
    "            print(\"You must save money larger than 0\")\n",
    "            \n",
    "    def withdraw_money(self):\n",
    "        withdrawM = [1000,3000,5000,10000,30000,50000]\n",
    "        print(\"Select value you want to withdraw:\")\n",
    "        for i,j in enumerate(withdrawM):\n",
    "            print(i+1,\":\",j)\n",
    "        i = int(input(\"Key 1~6:\"))\n",
    "        if self.__balance < withdrawM[i-1]:\n",
    "            print(\"Account balance is not enough\")\n",
    "        else:\n",
    "            self.__balance -= withdrawM[i-1]\n",
    "            \n",
    "    def get_balance(self):\n",
    "        print(self.__name+\"'s account balance:\",self.__balance)\n",
    "        \n",
    "    def transfer_money(self, otherBanks):\n",
    "        transferM = int(input(\"Key in the transfer money amount:\"))\n",
    "        if transferM < 0:\n",
    "            print(\"You must transfer money > 0\")\n",
    "        elif transferM > self.__balance:\n",
    "            print(\"Account balance is not enough\")\n",
    "        else:\n",
    "            self.__balance -= transferM\n",
    "            otherBanks.__balance += transferM"
   ]
  },
  {
   "cell_type": "code",
   "execution_count": 75,
   "metadata": {},
   "outputs": [
    {
     "name": "stdout",
     "output_type": "stream",
     "text": [
      "Create two money banks with zero balance\n",
      "lin's account balance: 0\n",
      "chen's account balance: 0\n"
     ]
    }
   ],
   "source": [
    "print(\"Create two money banks with zero balance\")\n",
    "linbank = Banks(\"lin\")\n",
    "chenbank = Banks(\"chen\")\n",
    "linbank.get_balance()\n",
    "chenbank.get_balance()"
   ]
  },
  {
   "cell_type": "code",
   "execution_count": 76,
   "metadata": {},
   "outputs": [
    {
     "name": "stdout",
     "output_type": "stream",
     "text": [
      "Save money to this two banks\n",
      "lin's account balance: 10000\n",
      "chen's account balance: 50000\n"
     ]
    }
   ],
   "source": [
    "print(\"Save money to this two banks\")\n",
    "linbank.save_money(10000)\n",
    "chenbank.save_money(50000)\n",
    "linbank.get_balance()\n",
    "chenbank.get_balance()"
   ]
  },
  {
   "cell_type": "code",
   "execution_count": 77,
   "metadata": {},
   "outputs": [
    {
     "name": "stdout",
     "output_type": "stream",
     "text": [
      "draw chen's bank money\n",
      "Select value you want to withdraw:\n",
      "1 : 1000\n",
      "2 : 3000\n",
      "3 : 5000\n",
      "4 : 10000\n",
      "5 : 30000\n",
      "6 : 50000\n",
      "Key 1~6:4\n",
      "chen's account balance: 40000\n",
      "\n",
      "withdraw money larger than bank's balance\n",
      "Select value you want to withdraw:\n",
      "1 : 1000\n",
      "2 : 3000\n",
      "3 : 5000\n",
      "4 : 10000\n",
      "5 : 30000\n",
      "6 : 50000\n",
      "Key 1~6:6\n",
      "Account balance is not enough\n",
      "chen's account balance: 40000\n"
     ]
    }
   ],
   "source": [
    "print(\"draw chen's bank money\")\n",
    "chenbank.withdraw_money()\n",
    "chenbank.get_balance()\n",
    "print(\"\")\n",
    "print(\"withdraw money larger than bank's balance\")\n",
    "chenbank.withdraw_money()\n",
    "chenbank.get_balance()"
   ]
  },
  {
   "cell_type": "code",
   "execution_count": 78,
   "metadata": {},
   "outputs": [
    {
     "name": "stdout",
     "output_type": "stream",
     "text": [
      "transfer lin's money to chen's bank\n",
      "\n",
      "Before transfer money\n",
      "lin's account balance: 10000\n",
      "chen's account balance: 40000\n",
      "\n",
      "After transfer money\n",
      "Key in the transfer money amount:1000\n",
      "lin's account balance: 9000\n",
      "chen's account balance: 41000\n"
     ]
    }
   ],
   "source": [
    "print(\"transfer lin's money to chen's bank\\n\")\n",
    "print(\"Before transfer money\")\n",
    "linbank.get_balance()\n",
    "chenbank.get_balance()\n",
    "print(\"\")\n",
    "print(\"After transfer money\")\n",
    "linbank.transfer_money(chenbank)\n",
    "linbank.get_balance()\n",
    "chenbank.get_balance()"
   ]
  },
  {
   "cell_type": "code",
   "execution_count": null,
   "metadata": {},
   "outputs": [],
   "source": []
  }
 ],
 "metadata": {
  "kernelspec": {
   "display_name": "Python 3",
   "language": "python",
   "name": "python3"
  },
  "language_info": {
   "codemirror_mode": {
    "name": "ipython",
    "version": 3
   },
   "file_extension": ".py",
   "mimetype": "text/x-python",
   "name": "python",
   "nbconvert_exporter": "python",
   "pygments_lexer": "ipython3",
   "version": "3.7.3"
  }
 },
 "nbformat": 4,
 "nbformat_minor": 2
}
